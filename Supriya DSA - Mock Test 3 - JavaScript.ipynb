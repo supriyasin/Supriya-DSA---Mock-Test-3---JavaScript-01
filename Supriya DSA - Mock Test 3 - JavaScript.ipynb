{
 "cells": [
  {
   "cell_type": "code",
   "execution_count": null,
   "id": "de25aa46",
   "metadata": {},
   "outputs": [],
   "source": [
    "#Implement a stack using an array in JavaScript. Include the necessary methods such as push, pop, and isEmpty.\n",
    "\n",
    "#Here's an implementation of a stack using an array in JavaScript, including the necessary methods such as push(), pop(),\n",
    "and isEmpty():\n",
    "\n",
    "class Stack {\n",
    "  constructor() {\n",
    "    this.stack = [];\n",
    "  }\n",
    "\n",
    "  // Add an element to the top of the stack\n",
    "  push(element) {\n",
    "    this.stack.push(element);\n",
    "  }\n",
    "\n",
    "  // Remove and return the top element from the stack\n",
    "  pop() {\n",
    "    if (this.isEmpty()) {\n",
    "      return \"Stack is empty. Cannot pop an element.\";\n",
    "    }\n",
    "    return this.stack.pop();\n",
    "  }\n",
    "\n",
    "  // Check if the stack is empty\n",
    "  isEmpty() {\n",
    "    return this.stack.length === 0;\n",
    "  }\n",
    "}\n",
    "\n",
    "// Usage example:\n",
    "const stack = new Stack();\n",
    "stack.push(10);\n",
    "stack.push(20);\n",
    "stack.push(30);\n",
    "\n",
    "console.log(stack.pop()); // Output: 30\n",
    "console.log(stack.isEmpty()); // Output: false\n",
    "console.log(stack.pop()); // Output: 20\n",
    "console.log(stack.pop()); // Output: 10\n",
    "console.log(stack.isEmpty()); // Output: true\n",
    "console.log(stack.pop()); // Output: Stack is empty. Cannot pop an element.\n",
    "    \n",
    "\"\"\"In this implementation, the Stack class has a stack property that represents the underlying array used to store the \n",
    "   elements of the stack. The push() method adds an element to the top of the stack using the push() function of the array.\n",
    "   The pop() method removes and returns the top element from the stack using the pop() function of the array. The isEmpty()\n",
    "   method checks if the stack is empty by verifying if the length of the underlying array is zero.\"\"\"    \n"
   ]
  }
 ],
 "metadata": {
  "kernelspec": {
   "display_name": "Python 3 (ipykernel)",
   "language": "python",
   "name": "python3"
  },
  "language_info": {
   "codemirror_mode": {
    "name": "ipython",
    "version": 3
   },
   "file_extension": ".py",
   "mimetype": "text/x-python",
   "name": "python",
   "nbconvert_exporter": "python",
   "pygments_lexer": "ipython3",
   "version": "3.9.12"
  }
 },
 "nbformat": 4,
 "nbformat_minor": 5
}
